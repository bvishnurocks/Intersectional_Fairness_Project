{
 "cells": [
  {
   "cell_type": "code",
   "execution_count": null,
   "id": "e868e692-5420-429b-927b-88dd9f2d8c9b",
   "metadata": {},
   "outputs": [],
   "source": []
  },
  {
   "cell_type": "code",
   "execution_count": 4,
   "id": "38480c68-cefe-4f9d-8b33-6522fd19109c",
   "metadata": {},
   "outputs": [
    {
     "name": "stdout",
     "output_type": "stream",
     "text": [
      "Dataset loaded. Shape: (74310, 98)\n",
      "No missing values found.\n",
      "All features are numeric.\n",
      "Random Forest Training Accuracy: 0.9999\n",
      "Random Forest Test Accuracy: 0.9043\n",
      "Random Forest Test ROC AUC: 0.9683\n",
      "Decision Tree Training Accuracy: 1.0000\n",
      "Decision Tree Test Accuracy: 0.8765\n",
      "Decision Tree Test ROC AUC: 0.8765\n",
      "Random Forest WC-SPD: 0.5000\n",
      "Random Forest WC-AOD: 0.8085\n",
      "Random Forest AC-SPD: 0.0000\n",
      "Decision Tree WC-SPD: 0.5000\n",
      "Decision Tree WC-AOD: 0.7529\n",
      "Decision Tree AC-SPD: 0.0000\n"
     ]
    }
   ],
   "source": [
    "# Step 1: Import Necessary Libraries\n",
    "import os\n",
    "import pandas as pd\n",
    "import numpy as np\n",
    "from sklearn.model_selection import train_test_split\n",
    "from sklearn.ensemble import RandomForestClassifier\n",
    "from sklearn.tree import DecisionTreeClassifier\n",
    "from sklearn.metrics import accuracy_score, roc_auc_score\n",
    "from aif360.datasets import BinaryLabelDataset\n",
    "from aif360.metrics import ClassificationMetric\n",
    "import warnings\n",
    "warnings.filterwarnings('ignore')\n",
    "\n",
    "# Step 2: Load the Resampled Dataset\n",
    "current_dir = os.getcwd()\n",
    "resampled_dataset_path = os.path.join(current_dir, '..', 'results', 'fair_smote_adult.csv')\n",
    "df = pd.read_csv(resampled_dataset_path)\n",
    "print(f\"Dataset loaded. Shape: {df.shape}\")\n",
    "\n",
    "# Step 3: Prepare the Data for Modeling\n",
    "label_column = 'income'\n",
    "protected_attributes = ['sex', 'race']\n",
    "X = df.drop(columns=[label_column])\n",
    "y = df[label_column]\n",
    "\n",
    "# Check for missing values\n",
    "if X.isnull().sum().sum() > 0 or y.isnull().sum() > 0:\n",
    "    print(\"Data contains missing values.\")\n",
    "else:\n",
    "    print(\"No missing values found.\")\n",
    "\n",
    "# Ensure all features are numeric\n",
    "non_numeric_cols = X.select_dtypes(include=['object']).columns.tolist()\n",
    "if non_numeric_cols:\n",
    "    print(f\"Non-numeric columns found: {non_numeric_cols}\")\n",
    "    from sklearn.preprocessing import LabelEncoder\n",
    "    le = LabelEncoder()\n",
    "    for col in non_numeric_cols:\n",
    "        X[col] = le.fit_transform(X[col])\n",
    "else:\n",
    "    print(\"All features are numeric.\")\n",
    "\n",
    "# Step 4: Split the Data into Training and Test Sets\n",
    "X_train, X_test, y_train, y_test = train_test_split(\n",
    "    X, y, test_size=0.2, random_state=42, stratify=y\n",
    ")\n",
    "\n",
    "# Step 5: Train a Random Forest Model\n",
    "rf_model = RandomForestClassifier(n_estimators=100, random_state=42)\n",
    "rf_model.fit(X_train, y_train)\n",
    "y_pred_rf = rf_model.predict(X_test)\n",
    "train_accuracy_rf = rf_model.score(X_train, y_train)\n",
    "test_accuracy_rf = accuracy_score(y_test, y_pred_rf)\n",
    "test_roc_auc_rf = roc_auc_score(y_test, rf_model.predict_proba(X_test)[:, 1])\n",
    "print(f\"Random Forest Training Accuracy: {train_accuracy_rf:.4f}\")\n",
    "print(f\"Random Forest Test Accuracy: {test_accuracy_rf:.4f}\")\n",
    "print(f\"Random Forest Test ROC AUC: {test_roc_auc_rf:.4f}\")\n",
    "\n",
    "# Step 6: Train a Decision Tree Model\n",
    "dt_model = DecisionTreeClassifier(random_state=42)\n",
    "dt_model.fit(X_train, y_train)\n",
    "y_pred_dt = dt_model.predict(X_test)\n",
    "train_accuracy_dt = dt_model.score(X_train, y_train)\n",
    "test_accuracy_dt = accuracy_score(y_test, y_pred_dt)\n",
    "test_roc_auc_dt = roc_auc_score(y_test, dt_model.predict_proba(X_test)[:, 1])\n",
    "print(f\"Decision Tree Training Accuracy: {train_accuracy_dt:.4f}\")\n",
    "print(f\"Decision Tree Test Accuracy: {test_accuracy_dt:.4f}\")\n",
    "print(f\"Decision Tree Test ROC AUC: {test_roc_auc_dt:.4f}\")\n",
    "\n",
    "# Step 7: Define Functions for Intersectional Fairness Metrics\n",
    "def calculate_wc_spd(df, label_column, protected_attributes):\n",
    "    group_stats = []\n",
    "    total_instances = len(df)\n",
    "    for combination in df.groupby(protected_attributes):\n",
    "        _, subset = combination\n",
    "        favorable_prob = subset[label_column].mean()\n",
    "        weight = len(subset) / total_instances\n",
    "        group_stats.append((favorable_prob, weight))\n",
    "    wc_spd = sum(weight * prob for prob, weight in group_stats)\n",
    "    return wc_spd\n",
    "\n",
    "def calculate_wc_aod(df, label_column, protected_attributes, y_pred_col):\n",
    "    group_stats = []\n",
    "    total_instances = len(df)\n",
    "    for combination in df.groupby(protected_attributes):\n",
    "        _, subset = combination\n",
    "        tpr = sum((subset[label_column] == 1) & (subset[y_pred_col] == 1)) / sum(subset[label_column] == 1)\n",
    "        fpr = sum((subset[label_column] == 0) & (subset[y_pred_col] == 1)) / sum(subset[label_column] == 0)\n",
    "        weight = len(subset) / total_instances\n",
    "        group_stats.append((tpr, fpr, weight))\n",
    "    wc_aod = sum(weight * (tpr - fpr) for tpr, fpr, weight in group_stats)\n",
    "    return wc_aod\n",
    "\n",
    "def calculate_ac_spd(df, label_column, protected_attributes):\n",
    "    group_stats = []\n",
    "    for combination in df.groupby(protected_attributes):\n",
    "        _, subset = combination\n",
    "        favorable_prob = subset[label_column].mean()\n",
    "        group_stats.append(favorable_prob)\n",
    "    spd_values = [abs(prob1 - prob2) for i, prob1 in enumerate(group_stats) \n",
    "                  for j, prob2 in enumerate(group_stats) if i < j]\n",
    "    ac_spd = sum(spd_values) / len(spd_values) if spd_values else 0\n",
    "    return ac_spd\n"
   ]
  },
  {
   "cell_type": "code",
   "execution_count": 6,
   "id": "aecd87c8-5481-4ffe-b66b-8b66b16593c3",
   "metadata": {},
   "outputs": [
    {
     "name": "stdout",
     "output_type": "stream",
     "text": [
      "Random Forest WC-SPD: 0.5000\n",
      "Random Forest WC-AOD: 0.8085\n",
      "Random Forest AC-SPD: 0.0000\n"
     ]
    }
   ],
   "source": [
    "# Step 8: Calculate Fairness Metrics for Random Forest\n",
    "df_test_rf = X_test.copy()\n",
    "df_test_rf[label_column] = y_test.values\n",
    "df_test_rf['y_pred'] = y_pred_rf\n",
    "wc_spd_rf = calculate_wc_spd(df_test_rf, label_column, protected_attributes)\n",
    "wc_aod_rf = calculate_wc_aod(df_test_rf, label_column, protected_attributes, 'y_pred')\n",
    "ac_spd_rf = calculate_ac_spd(df_test_rf, label_column, protected_attributes)\n",
    "print(f\"Random Forest WC-SPD: {wc_spd_rf:.4f}\")\n",
    "print(f\"Random Forest WC-AOD: {wc_aod_rf:.4f}\")\n",
    "print(f\"Random Forest AC-SPD: {ac_spd_rf:.4f}\")\n"
   ]
  },
  {
   "cell_type": "code",
   "execution_count": 7,
   "id": "749debf7-2796-4ca2-9694-3ff4a138c1ca",
   "metadata": {},
   "outputs": [
    {
     "name": "stdout",
     "output_type": "stream",
     "text": [
      "Decision Tree WC-SPD: 0.5000\n",
      "Decision Tree WC-AOD: 0.7529\n",
      "Decision Tree AC-SPD: 0.0000\n"
     ]
    }
   ],
   "source": [
    "# Step 9: Calculate Fairness Metrics for Decision Tree\n",
    "df_test_dt = X_test.copy()\n",
    "df_test_dt[label_column] = y_test.values\n",
    "df_test_dt['y_pred'] = y_pred_dt\n",
    "wc_spd_dt = calculate_wc_spd(df_test_dt, label_column, protected_attributes)\n",
    "wc_aod_dt = calculate_wc_aod(df_test_dt, label_column, protected_attributes, 'y_pred')\n",
    "ac_spd_dt = calculate_ac_spd(df_test_dt, label_column, protected_attributes)\n",
    "print(f\"Decision Tree WC-SPD: {wc_spd_dt:.4f}\")\n",
    "print(f\"Decision Tree WC-AOD: {wc_aod_dt:.4f}\")\n",
    "print(f\"Decision Tree AC-SPD: {ac_spd_dt:.4f}\")\n"
   ]
  },
  {
   "cell_type": "code",
   "execution_count": 5,
   "id": "924745d8-f2ee-44ba-a452-811f5047e153",
   "metadata": {},
   "outputs": [
    {
     "data": {
      "image/png": "[encoded data removed]",
      "text/plain": [
       "<Figure size 1000x600 with 1 Axes>"
      ]
     },
     "metadata": {},
     "output_type": "display_data"
    }
   ],
   "source": [
    "# Plotting performance metrics manually\n",
    "import matplotlib.pyplot as plt\n",
    "import numpy as np\n",
    "\n",
    "# Define performance metrics\n",
    "models = ['Random Forest', 'Decision Tree']\n",
    "training_accuracy = [0.9999, 1.0000]\n",
    "test_accuracy = [0.9043, 0.8765]\n",
    "test_roc_auc = [0.9683, 0.8765]\n",
    "\n",
    "# Plotting\n",
    "x = np.arange(len(models))  # label locations\n",
    "width = 0.25  # width of the bars\n",
    "\n",
    "fig, ax = plt.subplots(figsize=(10, 6))\n",
    "bar1 = ax.bar(x - width, training_accuracy, width, label='Training Accuracy')\n",
    "bar2 = ax.bar(x, test_accuracy, width, label='Test Accuracy')\n",
    "bar3 = ax.bar(x + width, test_roc_auc, width, label='Test ROC AUC')\n",
    "\n",
    "# Add labels, title, and legend\n",
    "ax.set_xlabel('Models', fontsize=12)\n",
    "ax.set_ylabel('Metric Value', fontsize=12)\n",
    "ax.set_title('Performance Metrics: Random Forest vs Decision Tree', fontsize=14)\n",
    "ax.set_xticks(x)\n",
    "ax.set_xticklabels(models, fontsize=10)\n",
    "ax.legend()\n",
    "\n",
    "# Adding value annotations\n",
    "for bar_group in [bar1, bar2, bar3]:\n",
    "    for bar in bar_group:\n",
    "        height = bar.get_height()\n",
    "        ax.annotate(f'{height:.4f}', xy=(bar.get_x() + bar.get_width() / 2, height),\n",
    "                    xytext=(0, 3),  # offset\n",
    "                    textcoords=\"offset points\",\n",
    "                    ha='center', va='bottom', fontsize=9)\n",
    "\n",
    "plt.tight_layout()\n",
    "plt.show()\n"
   ]
  },
  {
   "cell_type": "code",
   "execution_count": null,
   "id": "c28af465-35c1-4023-ac5a-2e87ad0f5d72",
   "metadata": {},
   "outputs": [],
   "source": []
  }
 ],
 "metadata": {
  "kernelspec": {
   "display_name": "Python 3 (ipykernel)",
   "language": "python",
   "name": "python3"
  },
  "language_info": {
   "codemirror_mode": {
    "name": "ipython",
    "version": 3
   },
   "file_extension": ".py",
   "mimetype": "text/x-python",
   "name": "python",
   "nbconvert_exporter": "python",
   "pygments_lexer": "ipython3",
   "version": "3.9.20"
  }
 },
 "nbformat": 4,
 "nbformat_minor": 5
}
